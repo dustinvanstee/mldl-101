{
 "cells": [
  {
   "cell_type": "markdown",
   "metadata": {},
   "source": [
    "# Object Detection - YOLO Lab using PowerAI\n",
    "\n",
    "The goal of the notebook is to introduce a few key concepts around YOLO, and show how you can use Keras and Tensorflow which are part of the PowerAI distribution to solve these types of problems.\n",
    "\n",
    "Many of the ideas in this notebook are described in the two YOLO papers: Redmon et al., 2016 (https://arxiv.org/abs/1506.02640) and Redmon and Farhadi, 2016 (https://arxiv.org/abs/1612.08242). \n",
    "\n",
    "**You will learn to**:\n",
    "- Use object detection to \n",
    "    - draw bounding boxes on images\n",
    "    - count object instances\n",
    "- Create a video with bounding boxes\n",
    "- [Optional - Work In Progress]: Training a network using a new dataset\n"
   ]
  },
  {
   "cell_type": "markdown",
   "metadata": {
    "collapsed": true
   },
   "source": [
    "### Applications of Object Detection ....\n",
    "\n",
    "<img src=\"nb_images/applications.png\" style=\"width:700px;height:400;\">\n",
    "<caption><center> <u> **Figure 2** </u>: **Applications for Object Detection with YOLO**<br> </center></caption>\n",
    "\n"
   ]
  },
  {
   "cell_type": "markdown",
   "metadata": {},
   "source": [
    "### Definitions :\n",
    "- PowerAI - IBM Deeplearning Frameworks optimized on IBM Power Systems leveraging Nvidia GPUs\n",
    "- YOLO   -  object detection algorithm using state of the art deep learning technique\n",
    "- COCO Dataset - a standard object detection dataset hosting > 100K labelled images\n",
    "- Tensor - An N dimensional array  \n",
    "- Training - Phase of machine/deep learning where you are adjusting model weights to predict known outputs.\n",
    "- Inference - Phase of machine/deep learning where you are using a previously trained model to predict output with new data\n",
    "- Anchor Boxes - Technique used in object detection algorithms to allow detection of more than one object in a grid cell\n",
    "\n",
    "- non max suppression - Technique used is object detection algorithm to prune away low probability predicted boxes.\n",
    "- batch norm - Technique use in deep learning to allow for faster training.\n",
    "- leaky relu - Non linear activation function that is used in many image classification / detection algorithms.\n",
    "\n",
    "\n"
   ]
  },
  {
   "cell_type": "code",
   "execution_count": 1,
   "metadata": {},
   "outputs": [
    {
     "name": "stderr",
     "output_type": "stream",
     "text": [
      "Using TensorFlow backend.\n"
     ]
    }
   ],
   "source": [
    "# Run the following cell to load the packages and dependencies and lets get started!\n",
    "import argparse as ap\n",
    "import os\n",
    "import numpy as np\n",
    "import cv2\n",
    "import sys\n",
    "import re\n",
    "import json\n",
    "import shutil\n",
    "\n",
    "import tensorflow as tf\n",
    "from keras import backend as K\n",
    "from keras.layers import Input, Lambda, Conv2D\n",
    "from keras.models import load_model, Model, model_from_json\n",
    "from keras.callbacks import TensorBoard, ModelCheckpoint, EarlyStopping\n",
    "from tensorflow.python import debug as tf_debug\n",
    "\n",
    "\n",
    "from yolo_utils import read_classes, read_anchors\n",
    "import random\n",
    "import colorsys\n",
    "from IPython.display import Image\n"
   ]
  },
  {
   "cell_type": "markdown",
   "metadata": {},
   "source": [
    "# Load library functions\n",
    "Most of the code for this lab is provided via the `yolo_demo` convenience library.  This code is available on github at \n",
    "- https://github.com/dustinvanstee/mldl-101/tree/master/lab4-yolo-keras"
   ]
  },
  {
   "cell_type": "code",
   "execution_count": 2,
   "metadata": {
    "collapsed": true
   },
   "outputs": [],
   "source": [
    "# import all the helper functions that we will use for this lab\n",
    "from yolo_demo import *"
   ]
  },
  {
   "cell_type": "markdown",
   "metadata": {},
   "source": [
    "**Important Note**: As you can see, we import Keras's backend as K. This means that to use a Keras function in this notebook, you will need to write: `K.function(...)`."
   ]
  },
  {
   "cell_type": "markdown",
   "metadata": {},
   "source": [
    "# Remove this ...."
   ]
  },
  {
   "cell_type": "code",
   "execution_count": 3,
   "metadata": {
    "scrolled": true
   },
   "outputs": [
    {
     "name": "stdout",
     "output_type": "stream",
     "text": [
      "1.2.1\n",
      "['/Users/dustinvanstee/.virtualenvs/coursera_env/lib/python3.6/site-packages/tensorflow']\n",
      "3.6.4 (v3.6.4:d48ecebad5, Dec 18 2017, 21:07:28) \n",
      "[GCC 4.2.1 (Apple Inc. build 5666) (dot 3)]\n",
      "['', '/Users/dustinvanstee/.virtualenvs/coursera_env/lib/python36.zip', '/Users/dustinvanstee/.virtualenvs/coursera_env/lib/python3.6', '/Users/dustinvanstee/.virtualenvs/coursera_env/lib/python3.6/lib-dynload', '/Library/Frameworks/Python.framework/Versions/3.6/lib/python3.6', '/Users/dustinvanstee/.virtualenvs/coursera_env/lib/python3.6/site-packages', '/Library/Frameworks/Python.framework/Versions/3.6/lib/python3.6/site-packages', '/Users/dustinvanstee/.virtualenvs/coursera_env/lib/python3.6/site-packages/IPython/extensions', '/Users/dustinvanstee/.ipython']\n"
     ]
    }
   ],
   "source": [
    "#print(os.environ['PYTHONPATH'])\n",
    "print(tf.__version__)\n",
    "print(tf.__path__)\n",
    "#import keras\n",
    "#print(keras.__version__)\n",
    "#print(keras.__path__)\n",
    "print(sys.version)\n",
    "print(sys.path)"
   ]
  },
  {
   "cell_type": "markdown",
   "metadata": {},
   "source": [
    "# Lab explanation\n",
    "\n",
    "Here we use a Keras implementation built by Allan Zelener called Yad2k .  This initial implementation has been significantly modified for this lab. \n",
    "\n",
    "**Under the hood, we will leverage PowerAI Keras/Tensorflow libraries**\n",
    "\n",
    "Below we will load our demo environment.  \n",
    "\n",
    "The general flow of this lab will be to expose some high level functions to see how the algorith works in general, but the complexity of the code will be encapsulated in the yolo_demo.py .  All this code is accessible at \n",
    "https://github.com/dustinvanstee/mldl-101/tree/master/lab4-yolo-keras\n",
    "\n",
    "This lab will make use of a pre-trained yolo model that was built using the COCO dataset.  *This lab will not implement retraining this network based on newly labelled images and classes.*\n",
    "\n"
   ]
  },
  {
   "cell_type": "markdown",
   "metadata": {},
   "source": [
    "# Load Session \n",
    "\n",
    "This lab will make use of both Keras and Tensorflow.  Keras is used for the high level implementation of the neural network, and tensorflow is used as the deep learning \"backend\".  Note, in many cases it is ok to mix tensorflow and keras code, but in general, for portability use Keras as much as possible.\n",
    "\n",
    "Here we load a new tensorflow session via K.get_session() and setup the yolo_demo configuration files.  \n",
    "\n",
    "The configurations files define the 80 coco classes, and the anchor box coordinates used for this demo.\n",
    "- Note : anchor boxes are used when there are multiple objects in the same grid location.\n",
    "\n",
    "The mydemo object has all the built in functions we will need.  Lets explore what we can do  ...."
   ]
  },
  {
   "cell_type": "code",
   "execution_count": 4,
   "metadata": {
    "collapsed": true
   },
   "outputs": [],
   "source": [
    "sess = K.get_session()\n",
    "\n",
    "# TF Debugger... try standard!\n",
    "#from tensorflow.python import debug as tf_debug\n",
    "#sess = tf_debug.LocalCLIDebugWrapperSession(sess)\n",
    "#K.set_session(sess)\n",
    "\n",
    "mydemo = yolo_demo(sess,batch_size=1) \n",
    "mydemo.vi_mode(\"image\")\n",
    "mydemo.class_names(read_classes(\"./model_data/coco_classes.txt\"))\n",
    "mydemo.anchors(read_anchors(\"./model_data/yolo_anchors.txt\"))\n",
    "\n",
    "\n"
   ]
  },
  {
   "cell_type": "markdown",
   "metadata": {},
   "source": [
    "# View Classes in the COCO dataset\n",
    "Here we are using a model that was pre-trained on the MS COCO dataset \n",
    "http://cocodataset.org/#home\n",
    "\n",
    "Lets take a look at the 80 classes we can detect by default"
   ]
  },
  {
   "cell_type": "code",
   "execution_count": 5,
   "metadata": {},
   "outputs": [
    {
     "name": "stdout",
     "output_type": "stream",
     "text": [
      "['person', 'bicycle', 'car', 'motorbike', 'aeroplane', 'bus', 'train', 'truck', 'boat', 'traffic light', 'fire hydrant', 'stop sign', 'parking meter', 'bench', 'bird', 'cat', 'dog', 'horse', 'sheep', 'cow', 'elephant', 'bear', 'zebra', 'giraffe', 'backpack', 'umbrella', 'handbag', 'tie', 'suitcase', 'frisbee', 'skis', 'snowboard', 'sports ball', 'kite', 'baseball bat', 'baseball glove', 'skateboard', 'surfboard', 'tennis racket', 'bottle', 'wine glass', 'cup', 'fork', 'knife', 'spoon', 'bowl', 'banana', 'apple', 'sandwich', 'orange', 'broccoli', 'carrot', 'hot dog', 'pizza', 'donut', 'cake', 'chair', 'sofa', 'pottedplant', 'bed', 'diningtable', 'toilet', 'tvmonitor', 'laptop', 'mouse', 'remote', 'keyboard', 'cell phone', 'microwave', 'oven', 'toaster', 'sink', 'refrigerator', 'book', 'clock', 'vase', 'scissors', 'teddy bear', 'hair drier', 'toothbrush']\n"
     ]
    }
   ],
   "source": [
    "print(str(mydemo.class_names()))"
   ]
  },
  {
   "cell_type": "markdown",
   "metadata": {},
   "source": [
    "## Load Image into Demo\n",
    "\n",
    "For this lab, lets start with an image pre-downloaded from the web just to experiment.  We will try to identify all the elephants and giraphes in this image.  \n",
    "** note : this a much more difficult task than basic image classification **"
   ]
  },
  {
   "cell_type": "code",
   "execution_count": 6,
   "metadata": {},
   "outputs": [
    {
     "name": "stdout",
     "output_type": "stream",
     "text": [
      "set_image_shape : Setting self.image_shape to (701, 1024, 3)\n"
     ]
    },
    {
     "data": {
      "image/jpeg": "[encoded data removed]",
      "text/plain": [
       "<IPython.core.display.Image object>"
      ]
     },
     "execution_count": 6,
     "metadata": {},
     "output_type": "execute_result"
    }
   ],
   "source": [
    "mydemo.input_vi(\"./images/safari2.jpg\")\n",
    "mydemo.set_image_shape()\n",
    "mydemo.infer_mode(\"darknet\")\n",
    "Image(\"images/safari2.jpg\")\n",
    "# note the number of elephants and giraphes for later... (7, 7)"
   ]
  },
  {
   "cell_type": "markdown",
   "metadata": {},
   "source": [
    "### Download the Pre-trained Model\n",
    "Here we make use of a model that was built using the Coco dataset.  The h5 file is a standard format for DL models.\n",
    "\n",
    "HDF5 file will typically contain:\n",
    "\n",
    "* the architecture of the model, allowing to re-create the model\n",
    "* the weights of the model\n",
    "* the training configuration (loss, optimizer)\n",
    "* the state of the optimizer, allowing to resume training exactly where you left off."
   ]
  },
  {
   "cell_type": "code",
   "execution_count": 7,
   "metadata": {},
   "outputs": [
    {
     "name": "stdout",
     "output_type": "stream",
     "text": [
      "System type = x86_64\n",
      "already have model_data/yolo.h5\n"
     ]
    }
   ],
   "source": [
    "system = !uname -m\n",
    "system = str(system[0])\n",
    "print(\"System type = {}\".format(system))\n",
    "if(system == 'x86_64' and not os.path.exists('./model_data/yolo.h5')) :\n",
    "    print(\"bypassing download\")\n",
    "elif(system == 'ppc64le' and not os.path.exists('./model_data/yolo.h5')) :\n",
    "    !wget https://github.com/dustinvanstee/mldl-101/releases/download/v1.0/yolo_power.h5 -O model_data/yolo.h5\n",
    "else :\n",
    "    print(\"already have model_data/yolo.h5\")\n",
    "\n"
   ]
  },
  {
   "cell_type": "markdown",
   "metadata": {},
   "source": [
    "# Load YOLO model\n",
    "\n",
    "Lets use the convenience function : `load_and_build_graph` to create the static graph that will be used to evaluate images\n",
    "\n",
    "`load_and_build_graph` performs the following function\n",
    "- load keras model and apply pre-trained weights\n",
    "- add transformation function to convert m x 19 x 19 x 85 array to probabilities and boxes\n",
    "- filtering functions to keep only the high probability boxes (uses non max suppression technique)\n",
    "\n",
    "Model loading is done in keras using the function \n",
    "\n",
    "`yolo_model = keras.models.load_model(pretrained_model)`\n",
    "\n",
    "Lets look at this drawing to see whats going on under the hood \n",
    "\n",
    "<img src=\"nb_images/architecture.png\" style=\"width:700px;height:400;\">\n",
    "<caption><center> <u> **Figure 2** </u>: **Inference/Encoding architecture for YOLO**<br> </center></caption>\n",
    "\n",
    "\n",
    "This function instantiates the YOLO network that was pretrained on the COCO dataset.  \n",
    "\n",
    "Initially you start with an image.  This image can be rectangular.  Here is the inference pipeline steps\n",
    "- Resize image to a square image, eg 608 x 608 pixels\n",
    "- Then feed image into YOLO CNN network\n",
    "- Output of this network is a grid of outputs.  At each grid location, you will have values track (Pc, x,y, w, h, one hot class vector) .  Repeat this structure for each anchor box\n",
    "- Next take this output and prune boxes down to high probalility boxes using non max suppression algorithm\n",
    "- List of boxes can be shown on image or fed into downstream system for counting or other applications\n",
    "\n",
    "**note : We will omit the training discussion of YOLO due to complexity and scope. **"
   ]
  },
  {
   "cell_type": "code",
   "execution_count": 8,
   "metadata": {},
   "outputs": [
    {
     "name": "stdout",
     "output_type": "stream",
     "text": [
      "load_and_build_graph : Loading DARKNET Model\n"
     ]
    },
    {
     "name": "stderr",
     "output_type": "stream",
     "text": [
      "/Users/dustinvanstee/.virtualenvs/coursera_env/lib/python3.6/site-packages/keras/models.py:251: UserWarning: No training configuration found in save file: the model was *not* compiled. Compile it manually.\n",
      "  warnings.warn('No training configuration found in save file: '\n"
     ]
    },
    {
     "name": "stdout",
     "output_type": "stream",
     "text": [
      "load_and_build_graph : Instantiating graph (yolo_head)\n",
      "load_and_build_graph : Loading yolo eval.  Final part of yolo that perform non max suppression and scoring\n",
      "load_and_build_graph : Max Boxes = 15, Object Probability Threshold = 0.5, IOU threshold = 0.5\n"
     ]
    }
   ],
   "source": [
    "# load_and_build_graph\n",
    "# Params :\n",
    "# score_threshold : Modify the score_threshold to be more certain about which boxes are displayed.\n",
    "# iou_threshold :   Reduce to iou_threshold to allow more boxes that have some overlap (higher value is less pruning since it will allow more overlap)\n",
    "\n",
    "mydemo.load_and_build_graph(arch=\"default\",weights=\"default\", max_boxes=15, score_threshold=0.5, iou_threshold=0.5)"
   ]
  },
  {
   "cell_type": "markdown",
   "metadata": {},
   "source": [
    "# Print Model Summary\n",
    "\n",
    "Now that we have loaded the model, Keras provides a great summary functions so that we can view all the model layers\n",
    "\n"
   ]
  },
  {
   "cell_type": "code",
   "execution_count": 9,
   "metadata": {},
   "outputs": [
    {
     "name": "stdout",
     "output_type": "stream",
     "text": [
      "____________________________________________________________________________________________________\n",
      "Layer (type)                     Output Shape          Param #     Connected to                     \n",
      "====================================================================================================\n",
      "input_1 (InputLayer)             (None, 608, 608, 3)   0                                            \n",
      "____________________________________________________________________________________________________\n",
      "conv2d_1 (Conv2D)                (None, 608, 608, 32)  864         input_1[0][0]                    \n",
      "____________________________________________________________________________________________________\n",
      "batch_normalization_1 (BatchNorm (None, 608, 608, 32)  128         conv2d_1[0][0]                   \n",
      "____________________________________________________________________________________________________\n",
      "leaky_re_lu_1 (LeakyReLU)        (None, 608, 608, 32)  0           batch_normalization_1[0][0]      \n",
      "____________________________________________________________________________________________________\n",
      "max_pooling2d_1 (MaxPooling2D)   (None, 304, 304, 32)  0           leaky_re_lu_1[0][0]              \n",
      "____________________________________________________________________________________________________\n",
      "conv2d_2 (Conv2D)                (None, 304, 304, 64)  18432       max_pooling2d_1[0][0]            \n",
      "____________________________________________________________________________________________________\n",
      "batch_normalization_2 (BatchNorm (None, 304, 304, 64)  256         conv2d_2[0][0]                   \n",
      "____________________________________________________________________________________________________\n",
      "leaky_re_lu_2 (LeakyReLU)        (None, 304, 304, 64)  0           batch_normalization_2[0][0]      \n",
      "____________________________________________________________________________________________________\n",
      "max_pooling2d_2 (MaxPooling2D)   (None, 152, 152, 64)  0           leaky_re_lu_2[0][0]              \n",
      "____________________________________________________________________________________________________\n",
      "conv2d_3 (Conv2D)                (None, 152, 152, 128) 73728       max_pooling2d_2[0][0]            \n",
      "____________________________________________________________________________________________________\n",
      "batch_normalization_3 (BatchNorm (None, 152, 152, 128) 512         conv2d_3[0][0]                   \n",
      "____________________________________________________________________________________________________\n",
      "leaky_re_lu_3 (LeakyReLU)        (None, 152, 152, 128) 0           batch_normalization_3[0][0]      \n",
      "____________________________________________________________________________________________________\n",
      "conv2d_4 (Conv2D)                (None, 152, 152, 64)  8192        leaky_re_lu_3[0][0]              \n",
      "____________________________________________________________________________________________________\n",
      "batch_normalization_4 (BatchNorm (None, 152, 152, 64)  256         conv2d_4[0][0]                   \n",
      "____________________________________________________________________________________________________\n",
      "leaky_re_lu_4 (LeakyReLU)        (None, 152, 152, 64)  0           batch_normalization_4[0][0]      \n",
      "____________________________________________________________________________________________________\n",
      "conv2d_5 (Conv2D)                (None, 152, 152, 128) 73728       leaky_re_lu_4[0][0]              \n",
      "____________________________________________________________________________________________________\n",
      "batch_normalization_5 (BatchNorm (None, 152, 152, 128) 512         conv2d_5[0][0]                   \n",
      "____________________________________________________________________________________________________\n",
      "leaky_re_lu_5 (LeakyReLU)        (None, 152, 152, 128) 0           batch_normalization_5[0][0]      \n",
      "____________________________________________________________________________________________________\n",
      "max_pooling2d_3 (MaxPooling2D)   (None, 76, 76, 128)   0           leaky_re_lu_5[0][0]              \n",
      "____________________________________________________________________________________________________\n",
      "conv2d_6 (Conv2D)                (None, 76, 76, 256)   294912      max_pooling2d_3[0][0]            \n",
      "____________________________________________________________________________________________________\n",
      "batch_normalization_6 (BatchNorm (None, 76, 76, 256)   1024        conv2d_6[0][0]                   \n",
      "____________________________________________________________________________________________________\n",
      "leaky_re_lu_6 (LeakyReLU)        (None, 76, 76, 256)   0           batch_normalization_6[0][0]      \n",
      "____________________________________________________________________________________________________\n",
      "conv2d_7 (Conv2D)                (None, 76, 76, 128)   32768       leaky_re_lu_6[0][0]              \n",
      "____________________________________________________________________________________________________\n",
      "batch_normalization_7 (BatchNorm (None, 76, 76, 128)   512         conv2d_7[0][0]                   \n",
      "____________________________________________________________________________________________________\n",
      "leaky_re_lu_7 (LeakyReLU)        (None, 76, 76, 128)   0           batch_normalization_7[0][0]      \n",
      "____________________________________________________________________________________________________\n",
      "conv2d_8 (Conv2D)                (None, 76, 76, 256)   294912      leaky_re_lu_7[0][0]              \n",
      "____________________________________________________________________________________________________\n",
      "batch_normalization_8 (BatchNorm (None, 76, 76, 256)   1024        conv2d_8[0][0]                   \n",
      "____________________________________________________________________________________________________\n",
      "leaky_re_lu_8 (LeakyReLU)        (None, 76, 76, 256)   0           batch_normalization_8[0][0]      \n",
      "____________________________________________________________________________________________________\n",
      "max_pooling2d_4 (MaxPooling2D)   (None, 38, 38, 256)   0           leaky_re_lu_8[0][0]              \n",
      "____________________________________________________________________________________________________\n",
      "conv2d_9 (Conv2D)                (None, 38, 38, 512)   1179648     max_pooling2d_4[0][0]            \n",
      "____________________________________________________________________________________________________\n",
      "batch_normalization_9 (BatchNorm (None, 38, 38, 512)   2048        conv2d_9[0][0]                   \n",
      "____________________________________________________________________________________________________\n",
      "leaky_re_lu_9 (LeakyReLU)        (None, 38, 38, 512)   0           batch_normalization_9[0][0]      \n",
      "____________________________________________________________________________________________________\n",
      "conv2d_10 (Conv2D)               (None, 38, 38, 256)   131072      leaky_re_lu_9[0][0]              \n",
      "____________________________________________________________________________________________________\n",
      "batch_normalization_10 (BatchNor (None, 38, 38, 256)   1024        conv2d_10[0][0]                  \n",
      "____________________________________________________________________________________________________\n",
      "leaky_re_lu_10 (LeakyReLU)       (None, 38, 38, 256)   0           batch_normalization_10[0][0]     \n",
      "____________________________________________________________________________________________________\n",
      "conv2d_11 (Conv2D)               (None, 38, 38, 512)   1179648     leaky_re_lu_10[0][0]             \n",
      "____________________________________________________________________________________________________\n",
      "batch_normalization_11 (BatchNor (None, 38, 38, 512)   2048        conv2d_11[0][0]                  \n",
      "____________________________________________________________________________________________________\n",
      "leaky_re_lu_11 (LeakyReLU)       (None, 38, 38, 512)   0           batch_normalization_11[0][0]     \n",
      "____________________________________________________________________________________________________\n",
      "conv2d_12 (Conv2D)               (None, 38, 38, 256)   131072      leaky_re_lu_11[0][0]             \n",
      "____________________________________________________________________________________________________\n",
      "batch_normalization_12 (BatchNor (None, 38, 38, 256)   1024        conv2d_12[0][0]                  \n",
      "____________________________________________________________________________________________________\n",
      "leaky_re_lu_12 (LeakyReLU)       (None, 38, 38, 256)   0           batch_normalization_12[0][0]     \n",
      "____________________________________________________________________________________________________\n",
      "conv2d_13 (Conv2D)               (None, 38, 38, 512)   1179648     leaky_re_lu_12[0][0]             \n",
      "____________________________________________________________________________________________________\n",
      "batch_normalization_13 (BatchNor (None, 38, 38, 512)   2048        conv2d_13[0][0]                  \n",
      "____________________________________________________________________________________________________\n",
      "leaky_re_lu_13 (LeakyReLU)       (None, 38, 38, 512)   0           batch_normalization_13[0][0]     \n",
      "____________________________________________________________________________________________________\n",
      "max_pooling2d_5 (MaxPooling2D)   (None, 19, 19, 512)   0           leaky_re_lu_13[0][0]             \n",
      "____________________________________________________________________________________________________\n",
      "conv2d_14 (Conv2D)               (None, 19, 19, 1024)  4718592     max_pooling2d_5[0][0]            \n",
      "____________________________________________________________________________________________________\n",
      "batch_normalization_14 (BatchNor (None, 19, 19, 1024)  4096        conv2d_14[0][0]                  \n",
      "____________________________________________________________________________________________________\n",
      "leaky_re_lu_14 (LeakyReLU)       (None, 19, 19, 1024)  0           batch_normalization_14[0][0]     \n",
      "____________________________________________________________________________________________________\n",
      "conv2d_15 (Conv2D)               (None, 19, 19, 512)   524288      leaky_re_lu_14[0][0]             \n",
      "____________________________________________________________________________________________________\n",
      "batch_normalization_15 (BatchNor (None, 19, 19, 512)   2048        conv2d_15[0][0]                  \n",
      "____________________________________________________________________________________________________\n",
      "leaky_re_lu_15 (LeakyReLU)       (None, 19, 19, 512)   0           batch_normalization_15[0][0]     \n",
      "____________________________________________________________________________________________________\n",
      "conv2d_16 (Conv2D)               (None, 19, 19, 1024)  4718592     leaky_re_lu_15[0][0]             \n",
      "____________________________________________________________________________________________________\n",
      "batch_normalization_16 (BatchNor (None, 19, 19, 1024)  4096        conv2d_16[0][0]                  \n",
      "____________________________________________________________________________________________________\n",
      "leaky_re_lu_16 (LeakyReLU)       (None, 19, 19, 1024)  0           batch_normalization_16[0][0]     \n",
      "____________________________________________________________________________________________________\n",
      "conv2d_17 (Conv2D)               (None, 19, 19, 512)   524288      leaky_re_lu_16[0][0]             \n",
      "____________________________________________________________________________________________________\n",
      "batch_normalization_17 (BatchNor (None, 19, 19, 512)   2048        conv2d_17[0][0]                  \n",
      "____________________________________________________________________________________________________\n",
      "leaky_re_lu_17 (LeakyReLU)       (None, 19, 19, 512)   0           batch_normalization_17[0][0]     \n",
      "____________________________________________________________________________________________________\n",
      "conv2d_18 (Conv2D)               (None, 19, 19, 1024)  4718592     leaky_re_lu_17[0][0]             \n",
      "____________________________________________________________________________________________________\n",
      "batch_normalization_18 (BatchNor (None, 19, 19, 1024)  4096        conv2d_18[0][0]                  \n",
      "____________________________________________________________________________________________________\n",
      "leaky_re_lu_18 (LeakyReLU)       (None, 19, 19, 1024)  0           batch_normalization_18[0][0]     \n",
      "____________________________________________________________________________________________________\n",
      "conv2d_19 (Conv2D)               (None, 19, 19, 1024)  9437184     leaky_re_lu_18[0][0]             \n",
      "____________________________________________________________________________________________________\n",
      "batch_normalization_19 (BatchNor (None, 19, 19, 1024)  4096        conv2d_19[0][0]                  \n",
      "____________________________________________________________________________________________________\n",
      "conv2d_21 (Conv2D)               (None, 38, 38, 64)    32768       leaky_re_lu_13[0][0]             \n",
      "____________________________________________________________________________________________________\n",
      "leaky_re_lu_19 (LeakyReLU)       (None, 19, 19, 1024)  0           batch_normalization_19[0][0]     \n",
      "____________________________________________________________________________________________________\n",
      "batch_normalization_21 (BatchNor (None, 38, 38, 64)    256         conv2d_21[0][0]                  \n",
      "____________________________________________________________________________________________________\n",
      "conv2d_20 (Conv2D)               (None, 19, 19, 1024)  9437184     leaky_re_lu_19[0][0]             \n",
      "____________________________________________________________________________________________________\n",
      "leaky_re_lu_21 (LeakyReLU)       (None, 38, 38, 64)    0           batch_normalization_21[0][0]     \n",
      "____________________________________________________________________________________________________\n",
      "batch_normalization_20 (BatchNor (None, 19, 19, 1024)  4096        conv2d_20[0][0]                  \n",
      "____________________________________________________________________________________________________\n",
      "space_to_depth_x2 (Lambda)       (None, 19, 19, 256)   0           leaky_re_lu_21[0][0]             \n",
      "____________________________________________________________________________________________________\n",
      "leaky_re_lu_20 (LeakyReLU)       (None, 19, 19, 1024)  0           batch_normalization_20[0][0]     \n",
      "____________________________________________________________________________________________________\n",
      "concatenate_1 (Concatenate)      (None, 19, 19, 1280)  0           space_to_depth_x2[0][0]          \n",
      "                                                                   leaky_re_lu_20[0][0]             \n",
      "____________________________________________________________________________________________________\n",
      "conv2d_22 (Conv2D)               (None, 19, 19, 1024)  11796480    concatenate_1[0][0]              \n",
      "____________________________________________________________________________________________________\n",
      "batch_normalization_22 (BatchNor (None, 19, 19, 1024)  4096        conv2d_22[0][0]                  \n",
      "____________________________________________________________________________________________________\n",
      "leaky_re_lu_22 (LeakyReLU)       (None, 19, 19, 1024)  0           batch_normalization_22[0][0]     \n",
      "____________________________________________________________________________________________________\n",
      "conv2d_23 (Conv2D)               (None, 19, 19, 425)   435625      leaky_re_lu_22[0][0]             \n",
      "====================================================================================================\n",
      "Total params: 50,983,561\n",
      "Trainable params: 50,962,889\n",
      "Non-trainable params: 20,672\n",
      "____________________________________________________________________________________________________\n",
      "None\n"
     ]
    }
   ],
   "source": [
    "mydemo.print_model_summary()"
   ]
  },
  {
   "cell_type": "markdown",
   "metadata": {},
   "source": [
    "# Model Description\n",
    "\n",
    "If you look at the output above, you can see the large number of layers used to create the model.  Explanations of the functions of the layers are in the definitions section at the top.   Next to the name of each layer is a value in parentheses like `(None, 19, 19, 425)`.  This indicates the size of the output Tensor.  Then `None` keyword is the idiomatic way Keras and TF use to identify the dimension that includes the batch size.  `None` is specified because batch size is determined at runtime, and so you cant define that dimension during static initialization of the graph.\n",
    "\n",
    "Note at the bottom the number of parameters in the model.  Keras provides methods for freezing / unfreezing layers of the graph.  This is important during training, but not during inference.\n",
    "\n",
    "Over 50 Million parameters are tuned during the training phase of the model.  A computationally intensive task that requires GPU to accelerate!  *** This is what the GPU enabled Power8 and Power9 servers are built for ...***"
   ]
  },
  {
   "cell_type": "markdown",
   "metadata": {},
   "source": [
    "### Perform Inference on a single image\n",
    "\n",
    "First lets use an image from the pre-populated images directory.  In this image we will identify elephants and giraphes.\n",
    "\n",
    "The `process_image` convenience function is provided to \n",
    "- read in the image into numpy array using OpenCV\n",
    "- Scale the image to a 608 x 608 image using OpenCV\n",
    "- Perform inference on the image\n",
    "- Prune discovered boxes down using values specified in the `load_and_build_graph` function call\n",
    "- Draw bounding boxes on the image\n",
    "- Save the new image to the `output_image` directory\n",
    "\n",
    "Run the cell below, and see the description below for an interpretation"
   ]
  },
  {
   "cell_type": "code",
   "execution_count": null,
   "metadata": {
    "collapsed": true
   },
   "outputs": [],
   "source": [
    "#mydemo.input_vi(\"./images/wine-glass-sizes.jpg\")\n",
    "#mydemo.set_image_shape()\n",
    "#mydemo.process_image(output_image=\"images/wine_boxes.jpg\")\n",
    "mydemo.process_image(output_image=\"images/safari_boxes.jpg\", with_grid=False)"
   ]
  },
  {
   "cell_type": "markdown",
   "metadata": {},
   "source": [
    "# interpret the results above ....\n",
    "The lines that start with **`draw_boxes`** give details about the discovered boxes including\n",
    "- class index\n",
    "- class label\n",
    "- probablity the object is the specified class\n",
    "- bounding box coordinates\n",
    "\n",
    "\n",
    "Sample debug output looks like this<br>\n",
    "<pre>\n",
    "                 class index   label,         BoxProb,upper left coord,     lower right coord\n",
    "draw_boxes : 14  classIdx=20   label=elephant 0.17    xmin,ymin=(621, 461)  xmax,ymax=(730, 491)\n",
    "</pre>\n",
    "\n",
    "The dotted 19 x 19 grid is debug output to show the most likely class at each grid location. \n",
    "Cells with 20 indicate a likelihood of an elephant\n",
    "Cells with 23 indicate a likelihood of an giraffe\n",
    "\n",
    "This view is really an intermediate step you can use to understand more of what is going at each grid location.\n"
   ]
  },
  {
   "cell_type": "markdown",
   "metadata": {},
   "source": [
    "### View the Labeled Image "
   ]
  },
  {
   "cell_type": "code",
   "execution_count": null,
   "metadata": {
    "collapsed": true
   },
   "outputs": [],
   "source": [
    "from IPython.display import Image\n",
    "Image(\"images/safari_boxes.jpg\")\n"
   ]
  },
  {
   "cell_type": "markdown",
   "metadata": {},
   "source": [
    "# Interpret Results\n",
    "\n",
    "*Do you notice how the 3 giraffes in the middle of the image are not highlighted?*\n",
    "*Did you notice we only detected 2 giraphes and 5 elephants even though we should have detected 7 for both classes?*\n",
    "\n",
    "First try this experiment, lets re-run the sequence above with a couple of different settings.  We will modify : \n",
    "- score_threshold from 05 -> 0.15\n",
    "- iou_threshold from 0.5 -> 0.7\n",
    "\n",
    "The score_threshold will reduce the required probabiliy for something to be considered detected.\n",
    "The iou_threshold increase will reduce the pruning of overlapping boxes.  \n",
    "\n",
    "To make this easier, a convenience function called infer image is used .  Essentially this encapsulates everything we did above into one inference function.\n"
   ]
  },
  {
   "cell_type": "code",
   "execution_count": null,
   "metadata": {
    "collapsed": true
   },
   "outputs": [],
   "source": [
    "infer_image(input_image=\"./images/safari2.jpg\",\n",
    "            output_image=\"./images/safari_boxes.jpg\",\n",
    "            score_threshold=0.15,\n",
    "            iou_threshold=0.7,\n",
    "            max_boxes=15,\n",
    "            audit_mode=True,\n",
    "            tfdbg=False,\n",
    "            mode=\"darknet\")"
   ]
  },
  {
   "cell_type": "code",
   "execution_count": null,
   "metadata": {
    "collapsed": true
   },
   "outputs": [],
   "source": [
    "Image(\"images/safari_boxes.jpg\")"
   ]
  },
  {
   "cell_type": "markdown",
   "metadata": {},
   "source": [
    "# Explanation of new image results\n",
    "\n",
    "When score threshold is changed from 0.5 to 0.15 we pick up the giraffes in the middle.  And the iou_threshold increase allows us to keep more boxes even though we have overlaps.  Still not a perfect result, but a lot better than before.  **Feel free to try a couple of different settings here to get a sense of how the knobs work.**\n",
    "\n",
    "For images with a high concentration of objects, these knobs require some tuning to get the best results.  Also training with more images that represent this distribution of pictures would help quite a bit too.  Not bad for a general purpose model though.\n",
    "\n",
    "\n",
    "\n",
    "Next, lets try this with a sample image downloaded from the web"
   ]
  },
  {
   "cell_type": "markdown",
   "metadata": {},
   "source": [
    "# [Optional ]: Download image from the web, and perform inference\n",
    "\n",
    "Use google and search for images of something below....\n",
    "\n",
    "['person', 'bicycle', 'car', 'motorbike', 'aeroplane', 'bus', 'train', 'truck', 'boat', 'traffic light', 'fire hydrant', 'stop sign', 'parking meter', 'bench', 'bird', 'cat', 'dog', 'horse', 'sheep', 'cow', 'elephant', 'bear', 'zebra', 'giraffe', 'backpack', 'umbrella', 'handbag', 'tie', 'suitcase', 'frisbee', 'skis', 'snowboard', 'sports ball', 'kite', 'baseball bat', 'baseball glove', 'skateboard', 'surfboard', 'tennis racket', 'bottle', 'wine glass', 'cup', 'fork', 'knife', 'spoon', 'bowl', 'banana', 'apple', 'sandwich', 'orange', 'broccoli', 'carrot', 'hot dog', 'pizza', 'donut', 'cake', 'chair', 'sofa', 'pottedplant', 'bed', 'diningtable', 'toilet', 'tvmonitor', 'laptop', 'mouse', 'remote', 'keyboard', 'cell phone', 'microwave', 'oven', 'toaster', 'sink', 'refrigerator', 'book', 'clock', 'vase', 'scissors', 'teddy bear', 'hair drier', 'toothbrush']\n",
    "\n",
    "Once you find a jpg, copy the link using ** copy link address ** and then paste the link after the wget command below.\n",
    "\n",
    "Then run the wget command below to save into the images directory (just leave the output file name as test.jpg)\n",
    "\n"
   ]
  },
  {
   "cell_type": "code",
   "execution_count": null,
   "metadata": {
    "collapsed": true
   },
   "outputs": [],
   "source": [
    "#### Change the code below ###\n",
    "# this one was a fun image .. https://cdn.shopify.com/s/files/1/2298/4179/products/20-5630_FruitBowlFilled.jpg?v=1507743561\n",
    "\n",
    "!wget 'type your url here' -O images/test.jpg\n",
    "#### Dont change below this line ####\n",
    "\n",
    "# Verify the image is now in the images directory\n",
    "!ls images"
   ]
  },
  {
   "cell_type": "code",
   "execution_count": null,
   "metadata": {
    "collapsed": true
   },
   "outputs": [],
   "source": [
    "#### Dont need to change this code ####\n",
    "input_image =\"images/test.jpg\"\n",
    "\n",
    "\n",
    "output_file = \"./images/optional_test.jpg\"\n",
    "infer_image(input_image=input_image,\n",
    "            output_image=output_file,\n",
    "            score_threshold=0.15,\n",
    "            iou_threshold=0.7,\n",
    "            max_boxes=15,\n",
    "            audit_mode=True,\n",
    "            tfdbg=False,\n",
    "            mode=\"darknet\")"
   ]
  },
  {
   "cell_type": "code",
   "execution_count": null,
   "metadata": {
    "collapsed": true
   },
   "outputs": [],
   "source": [
    "Image(output_file)"
   ]
  },
  {
   "cell_type": "markdown",
   "metadata": {},
   "source": [
    "# Label a video with bounding boxes\n",
    "\n",
    "Here we make use of everything we have just done above, but now we will process a video which is jsut a series of images.  You can think of it like adding an outer loop to processing an image.\n",
    "\n",
    "Here we use openCV to read portions of a video into a numpy array, and have a few settings to control the # of frames processed.  Also for time purposes, we skip a couple of frames just to make the processing go quicker.  Run the function below to see the end result"
   ]
  },
  {
   "cell_type": "code",
   "execution_count": 10,
   "metadata": {},
   "outputs": [
    {
     "name": "stdout",
     "output_type": "stream",
     "text": [
      "output_dir : Removing old output dir\n",
      "set_image_shape : Setting self.image_shape to (1080, 1920, 3)\n",
      "load_and_build_graph : Loading DARKNET Model\n"
     ]
    },
    {
     "name": "stderr",
     "output_type": "stream",
     "text": [
      "/Users/dustinvanstee/.virtualenvs/coursera_env/lib/python3.6/site-packages/keras/models.py:251: UserWarning: No training configuration found in save file: the model was *not* compiled. Compile it manually.\n",
      "  warnings.warn('No training configuration found in save file: '\n"
     ]
    },
    {
     "name": "stdout",
     "output_type": "stream",
     "text": [
      "load_and_build_graph : Instantiating graph (yolo_head)\n",
      "load_and_build_graph : Loading yolo eval.  Final part of yolo that perform non max suppression and scoring\n",
      "load_and_build_graph : Max Boxes = 10, Object Probability Threshold = 0.5, IOU threshold = 0.5\n",
      "process_video : Total # frames in input movie = 467\n",
      "process_video : Batch Size = 8\n",
      "process_video : Frame Stride = 10\n",
      "process_video : Each loop will consume 88 frames \n",
      "process_video : Writing MOV video format for x86_64\n",
      "process_video : Saving new movie here ./output/processed_video.mov\n",
      "process_video : Total number of loops = 5 \n",
      "process_video : --------------------------------------------------\n",
      "process_video : loop count 0 : Frame shape = (8, 1080, 1920, 3)\n",
      "process_video : --------------------------------------------------\n",
      "preprocess_image_cpu : Yolo model image size requirement = (608, 608)\n",
      "preprocess_image_cpu : Raw  input image size             = 1080 1920 3\n",
      "get_rotation : Rotation set to : 0 degrees\n",
      "get_rotation : Rotation set to : 0 degrees\n",
      "Found 0 boxes for current batch 0\n",
      "Found 0 boxes for current batch 1\n",
      "Found 4 boxes for current batch 2\n",
      "Found 6 boxes for current batch 3\n",
      "Found 9 boxes for current batch 4\n",
      "Found 9 boxes for current batch 5\n",
      "Found 10 boxes for current batch 6\n",
      "Found 10 boxes for current batch 7\n",
      "process_video : Image 0 of 8\n",
      "process_video : Image 1 of 8\n",
      "process_video : Image 2 of 8\n",
      "draw_boxes : 3 classIdx= 0 label=person 0.63 xmin,ymin=(1291, 20) xmax,ymax=(1471, 449)\n",
      "draw_boxes : 2 classIdx= 0 label=person 0.66 xmin,ymin=(779, 517) xmax,ymax=(913, 917)\n",
      "draw_boxes : 1 classIdx= 0 label=person 0.74 xmin,ymin=(296, 208) xmax,ymax=(573, 664)\n",
      "draw_boxes : 0 classIdx= 0 label=person 0.86 xmin,ymin=(748, 233) xmax,ymax=(895, 582)\n",
      "process_video : Image 3 of 8\n",
      "draw_boxes : 5 classIdx= 0 label=person 0.60 xmin,ymin=(1235, 835) xmax,ymax=(1379, 1080)\n",
      "draw_boxes : 4 classIdx= 0 label=person 0.62 xmin,ymin=(1164, 39) xmax,ymax=(1312, 454)\n",
      "draw_boxes : 3 classIdx= 0 label=person 0.62 xmin,ymin=(1318, 19) xmax,ymax=(1441, 372)\n",
      "draw_boxes : 2 classIdx= 0 label=person 0.67 xmin,ymin=(286, 215) xmax,ymax=(489, 635)\n",
      "draw_boxes : 1 classIdx= 0 label=person 0.69 xmin,ymin=(750, 198) xmax,ymax=(893, 577)\n",
      "draw_boxes : 0 classIdx= 0 label=person 0.81 xmin,ymin=(733, 527) xmax,ymax=(933, 912)\n",
      "process_video : Image 4 of 8\n",
      "draw_boxes : 8 classIdx= 0 label=person 0.55 xmin,ymin=(1251, 25) xmax,ymax=(1417, 358)\n",
      "draw_boxes : 7 classIdx= 0 label=person 0.56 xmin,ymin=(1612, 587) xmax,ymax=(1760, 950)\n",
      "draw_boxes : 6 classIdx= 0 label=person 0.58 xmin,ymin=(257, 208) xmax,ymax=(451, 642)\n",
      "draw_boxes : 5 classIdx= 0 label=person 0.62 xmin,ymin=(379, 153) xmax,ymax=(476, 562)\n",
      "draw_boxes : 4 classIdx= 0 label=person 0.67 xmin,ymin=(1756, 37) xmax,ymax=(1905, 367)\n",
      "draw_boxes : 3 classIdx= 0 label=person 0.70 xmin,ymin=(1170, 799) xmax,ymax=(1314, 1080)\n",
      "draw_boxes : 2 classIdx= 0 label=person 0.70 xmin,ymin=(1082, 45) xmax,ymax=(1292, 437)\n",
      "draw_boxes : 1 classIdx= 0 label=person 0.74 xmin,ymin=(800, 508) xmax,ymax=(953, 901)\n",
      "draw_boxes : 0 classIdx= 0 label=person 0.81 xmin,ymin=(741, 209) xmax,ymax=(868, 543)\n",
      "process_video : Image 5 of 8\n",
      "draw_boxes : 8 classIdx= 0 label=person 0.54 xmin,ymin=(1724, 15) xmax,ymax=(1866, 361)\n",
      "draw_boxes : 7 classIdx= 0 label=person 0.64 xmin,ymin=(1663, 609) xmax,ymax=(1823, 920)\n",
      "draw_boxes : 6 classIdx= 0 label=person 0.68 xmin,ymin=(1280, 0) xmax,ymax=(1416, 317)\n",
      "draw_boxes : 5 classIdx= 0 label=person 0.73 xmin,ymin=(1191, 785) xmax,ymax=(1354, 1078)\n",
      "draw_boxes : 4 classIdx= 0 label=person 0.76 xmin,ymin=(1066, 44) xmax,ymax=(1253, 428)\n",
      "draw_boxes : 3 classIdx= 0 label=person 0.76 xmin,ymin=(238, 204) xmax,ymax=(436, 623)\n",
      "draw_boxes : 2 classIdx= 0 label=person 0.78 xmin,ymin=(755, 176) xmax,ymax=(881, 527)\n",
      "draw_boxes : 1 classIdx= 0 label=person 0.78 xmin,ymin=(434, 87) xmax,ymax=(551, 531)\n",
      "draw_boxes : 0 classIdx= 0 label=person 0.78 xmin,ymin=(894, 476) xmax,ymax=(1047, 862)\n",
      "process_video : Image 6 of 8\n",
      "draw_boxes : 9 classIdx=25 label=umbrella 0.53 xmin,ymin=(1370, 614) xmax,ymax=(1915, 802)\n",
      "draw_boxes : 8 classIdx= 0 label=person 0.63 xmin,ymin=(1696, 607) xmax,ymax=(1874, 921)\n",
      "draw_boxes : 7 classIdx= 0 label=person 0.64 xmin,ymin=(1235, 0) xmax,ymax=(1353, 324)\n",
      "draw_boxes : 6 classIdx= 0 label=person 0.66 xmin,ymin=(1262, 781) xmax,ymax=(1428, 1077)\n",
      "draw_boxes : 5 classIdx= 0 label=person 0.67 xmin,ymin=(1668, 1) xmax,ymax=(1840, 372)\n",
      "draw_boxes : 4 classIdx= 0 label=person 0.73 xmin,ymin=(262, 134) xmax,ymax=(440, 594)\n",
      "draw_boxes : 3 classIdx= 0 label=person 0.77 xmin,ymin=(421, 90) xmax,ymax=(567, 534)\n",
      "draw_boxes : 2 classIdx= 0 label=person 0.77 xmin,ymin=(1049, 12) xmax,ymax=(1192, 410)\n",
      "draw_boxes : 1 classIdx= 0 label=person 0.79 xmin,ymin=(966, 473) xmax,ymax=(1131, 862)\n",
      "draw_boxes : 0 classIdx= 0 label=person 0.83 xmin,ymin=(743, 123) xmax,ymax=(884, 511)\n",
      "process_video : Image 7 of 8\n",
      "draw_boxes : 9 classIdx= 0 label=person 0.54 xmin,ymin=(1574, 10) xmax,ymax=(1741, 348)\n",
      "draw_boxes : 8 classIdx= 0 label=person 0.56 xmin,ymin=(1311, 776) xmax,ymax=(1477, 1072)\n",
      "draw_boxes : 7 classIdx=25 label=umbrella 0.58 xmin,ymin=(1408, 615) xmax,ymax=(1916, 793)\n",
      "draw_boxes : 6 classIdx= 0 label=person 0.60 xmin,ymin=(1785, 8) xmax,ymax=(1918, 368)\n",
      "draw_boxes : 5 classIdx= 0 label=person 0.63 xmin,ymin=(239, 123) xmax,ymax=(426, 583)\n",
      "draw_boxes : 4 classIdx= 0 label=person 0.65 xmin,ymin=(414, 115) xmax,ymax=(553, 491)\n",
      "draw_boxes : 3 classIdx= 0 label=person 0.68 xmin,ymin=(1717, 611) xmax,ymax=(1876, 912)\n",
      "draw_boxes : 2 classIdx= 0 label=person 0.70 xmin,ymin=(991, 3) xmax,ymax=(1144, 394)\n",
      "draw_boxes : 1 classIdx= 0 label=person 0.72 xmin,ymin=(710, 116) xmax,ymax=(847, 498)\n",
      "draw_boxes : 0 classIdx= 0 label=person 0.79 xmin,ymin=(990, 460) xmax,ymax=(1148, 862)\n",
      "process_video : --------------------------------------------------\n",
      "process_video : loop count 1 : Frame shape = (8, 1080, 1920, 3)\n",
      "process_video : --------------------------------------------------\n",
      "preprocess_image_cpu : Yolo model image size requirement = (608, 608)\n",
      "preprocess_image_cpu : Raw  input image size             = 1080 1920 3\n",
      "get_rotation : Rotation set to : 0 degrees\n",
      "get_rotation : Rotation set to : 0 degrees\n",
      "Found 8 boxes for current batch 0\n",
      "Found 8 boxes for current batch 1\n",
      "Found 6 boxes for current batch 2\n",
      "Found 10 boxes for current batch 3\n",
      "Found 8 boxes for current batch 4\n",
      "Found 7 boxes for current batch 5\n",
      "Found 7 boxes for current batch 6\n",
      "Found 7 boxes for current batch 7\n",
      "process_video : Image 0 of 8\n",
      "draw_boxes : 7 classIdx=37 label=surfboard 0.51 xmin,ymin=(1396, 611) xmax,ymax=(1917, 786)\n",
      "draw_boxes : 6 classIdx= 0 label=person 0.61 xmin,ymin=(1701, 619) xmax,ymax=(1868, 918)\n",
      "draw_boxes : 5 classIdx= 0 label=person 0.64 xmin,ymin=(1081, 0) xmax,ymax=(1212, 310)\n",
      "draw_boxes : 4 classIdx= 0 label=person 0.66 xmin,ymin=(404, 117) xmax,ymax=(513, 515)\n",
      "draw_boxes : 3 classIdx= 0 label=person 0.72 xmin,ymin=(915, 1) xmax,ymax=(1071, 379)\n",
      "draw_boxes : 2 classIdx= 0 label=person 0.72 xmin,ymin=(209, 50) xmax,ymax=(363, 573)\n",
      "draw_boxes : 1 classIdx= 0 label=person 0.72 xmin,ymin=(1000, 470) xmax,ymax=(1163, 875)\n",
      "draw_boxes : 0 classIdx= 0 label=person 0.73 xmin,ymin=(670, 146) xmax,ymax=(795, 500)\n",
      "process_video : Image 1 of 8\n",
      "draw_boxes : 7 classIdx=37 label=surfboard 0.55 xmin,ymin=(1393, 623) xmax,ymax=(1919, 790)\n",
      "draw_boxes : 6 classIdx= 0 label=person 0.57 xmin,ymin=(1614, 0) xmax,ymax=(1748, 364)\n",
      "draw_boxes : 5 classIdx= 0 label=person 0.66 xmin,ymin=(1388, 0) xmax,ymax=(1558, 364)\n",
      "draw_boxes : 4 classIdx= 0 label=person 0.67 xmin,ymin=(387, 118) xmax,ymax=(511, 517)\n",
      "draw_boxes : 3 classIdx= 0 label=person 0.69 xmin,ymin=(891, 0) xmax,ymax=(1052, 396)\n",
      "draw_boxes : 2 classIdx= 0 label=person 0.71 xmin,ymin=(596, 136) xmax,ymax=(747, 516)\n",
      "draw_boxes : 1 classIdx= 0 label=person 0.72 xmin,ymin=(177, 89) xmax,ymax=(382, 560)\n",
      "draw_boxes : 0 classIdx= 0 label=person 0.76 xmin,ymin=(1023, 508) xmax,ymax=(1181, 911)\n",
      "process_video : Image 2 of 8\n",
      "draw_boxes : 5 classIdx= 0 label=person 0.64 xmin,ymin=(1370, 802) xmax,ymax=(1523, 970)\n",
      "draw_boxes : 4 classIdx= 0 label=person 0.64 xmin,ymin=(1079, 532) xmax,ymax=(1227, 923)\n",
      "draw_boxes : 3 classIdx= 0 label=person 0.67 xmin,ymin=(595, 114) xmax,ymax=(693, 531)\n",
      "draw_boxes : 2 classIdx= 0 label=person 0.68 xmin,ymin=(1294, 8) xmax,ymax=(1453, 383)\n",
      "draw_boxes : 1 classIdx= 0 label=person 0.68 xmin,ymin=(195, 99) xmax,ymax=(371, 554)\n",
      "draw_boxes : 0 classIdx= 0 label=person 0.71 xmin,ymin=(879, 26) xmax,ymax=(1053, 416)\n",
      "process_video : Image 3 of 8\n",
      "draw_boxes : 9 classIdx= 0 label=person 0.52 xmin,ymin=(511, 23) xmax,ymax=(590, 234)\n",
      "draw_boxes : 8 classIdx= 0 label=person 0.55 xmin,ymin=(622, 21) xmax,ymax=(721, 245)\n",
      "draw_boxes : 7 classIdx= 0 label=person 0.57 xmin,ymin=(1349, 806) xmax,ymax=(1532, 1072)\n",
      "draw_boxes : 6 classIdx= 0 label=person 0.59 xmin,ymin=(261, 168) xmax,ymax=(417, 543)\n",
      "draw_boxes : 5 classIdx= 0 label=person 0.61 xmin,ymin=(1221, 3) xmax,ymax=(1352, 378)\n",
      "draw_boxes : 4 classIdx= 0 label=person 0.65 xmin,ymin=(1480, 16) xmax,ymax=(1630, 369)\n",
      "draw_boxes : 3 classIdx= 0 label=person 0.66 xmin,ymin=(368, 163) xmax,ymax=(502, 537)\n",
      "draw_boxes : 2 classIdx= 0 label=person 0.77 xmin,ymin=(1135, 568) xmax,ymax=(1270, 969)\n",
      "draw_boxes : 1 classIdx= 0 label=person 0.78 xmin,ymin=(855, 18) xmax,ymax=(1039, 421)\n",
      "draw_boxes : 0 classIdx= 0 label=person 0.80 xmin,ymin=(552, 189) xmax,ymax=(697, 526)\n",
      "process_video : Image 4 of 8\n",
      "draw_boxes : 7 classIdx= 0 label=person 0.50 xmin,ymin=(639, 19) xmax,ymax=(731, 246)\n",
      "draw_boxes : 6 classIdx= 0 label=person 0.52 xmin,ymin=(1614, 6) xmax,ymax=(1732, 318)\n",
      "draw_boxes : 5 classIdx= 0 label=person 0.52 xmin,ymin=(1416, 810) xmax,ymax=(1544, 970)\n",
      "draw_boxes : 4 classIdx= 0 label=person 0.54 xmin,ymin=(1161, 35) xmax,ymax=(1304, 378)\n",
      "draw_boxes : 3 classIdx= 0 label=person 0.58 xmin,ymin=(1403, 0) xmax,ymax=(1524, 379)\n",
      "draw_boxes : 2 classIdx= 0 label=person 0.59 xmin,ymin=(897, 53) xmax,ymax=(1087, 426)\n",
      "draw_boxes : 1 classIdx= 0 label=person 0.61 xmin,ymin=(534, 174) xmax,ymax=(658, 535)\n",
      "draw_boxes : 0 classIdx= 0 label=person 0.74 xmin,ymin=(1179, 575) xmax,ymax=(1324, 968)\n",
      "process_video : Image 5 of 8\n",
      "draw_boxes : 6 classIdx= 0 label=person 0.53 xmin,ymin=(11, 940) xmax,ymax=(138, 1073)\n",
      "draw_boxes : 5 classIdx= 0 label=person 0.55 xmin,ymin=(1432, 808) xmax,ymax=(1578, 966)\n",
      "draw_boxes : 4 classIdx= 0 label=person 0.55 xmin,ymin=(764, 13) xmax,ymax=(927, 299)\n",
      "draw_boxes : 3 classIdx= 0 label=person 0.59 xmin,ymin=(502, 141) xmax,ymax=(634, 506)\n",
      "draw_boxes : 2 classIdx= 0 label=person 0.64 xmin,ymin=(1019, 71) xmax,ymax=(1227, 400)\n",
      "draw_boxes : 1 classIdx= 0 label=person 0.71 xmin,ymin=(1294, 15) xmax,ymax=(1448, 380)\n",
      "draw_boxes : 0 classIdx= 0 label=person 0.72 xmin,ymin=(1204, 599) xmax,ymax=(1356, 973)\n",
      "process_video : Image 6 of 8\n",
      "draw_boxes : 6 classIdx= 0 label=person 0.56 xmin,ymin=(18, 925) xmax,ymax=(169, 1080)\n",
      "draw_boxes : 5 classIdx= 0 label=person 0.63 xmin,ymin=(484, 163) xmax,ymax=(631, 562)\n",
      "draw_boxes : 4 classIdx= 0 label=person 0.63 xmin,ymin=(326, 141) xmax,ymax=(468, 456)\n",
      "draw_boxes : 3 classIdx= 0 label=person 0.67 xmin,ymin=(1009, 21) xmax,ymax=(1162, 413)\n",
      "draw_boxes : 2 classIdx= 0 label=person 0.68 xmin,ymin=(702, 0) xmax,ymax=(848, 289)\n",
      "draw_boxes : 1 classIdx= 0 label=person 0.69 xmin,ymin=(1204, 591) xmax,ymax=(1350, 965)\n",
      "draw_boxes : 0 classIdx= 0 label=person 0.72 xmin,ymin=(1189, 8) xmax,ymax=(1381, 356)\n"
     ]
    },
    {
     "name": "stdout",
     "output_type": "stream",
     "text": [
      "process_video : Image 7 of 8\n",
      "draw_boxes : 6 classIdx= 0 label=person 0.57 xmin,ymin=(997, 52) xmax,ymax=(1176, 429)\n",
      "draw_boxes : 5 classIdx= 0 label=person 0.59 xmin,ymin=(338, 134) xmax,ymax=(456, 467)\n",
      "draw_boxes : 4 classIdx= 0 label=person 0.59 xmin,ymin=(1460, 801) xmax,ymax=(1588, 952)\n",
      "draw_boxes : 3 classIdx= 0 label=person 0.60 xmin,ymin=(931, 15) xmax,ymax=(1043, 369)\n",
      "draw_boxes : 2 classIdx= 0 label=person 0.61 xmin,ymin=(53, 909) xmax,ymax=(229, 1080)\n",
      "draw_boxes : 1 classIdx= 0 label=person 0.62 xmin,ymin=(1206, 586) xmax,ymax=(1337, 954)\n",
      "draw_boxes : 0 classIdx= 0 label=person 0.72 xmin,ymin=(498, 180) xmax,ymax=(680, 543)\n",
      "process_video : --------------------------------------------------\n",
      "process_video : loop count 2 : Frame shape = (8, 1080, 1920, 3)\n",
      "process_video : --------------------------------------------------\n",
      "preprocess_image_cpu : Yolo model image size requirement = (608, 608)\n",
      "preprocess_image_cpu : Raw  input image size             = 1080 1920 3\n",
      "get_rotation : Rotation set to : 0 degrees\n",
      "get_rotation : Rotation set to : 0 degrees\n",
      "Found 6 boxes for current batch 0\n",
      "Found 8 boxes for current batch 1\n",
      "Found 9 boxes for current batch 2\n",
      "Found 7 boxes for current batch 3\n",
      "Found 6 boxes for current batch 4\n",
      "Found 4 boxes for current batch 5\n",
      "Found 10 boxes for current batch 6\n",
      "Found 9 boxes for current batch 7\n",
      "process_video : Image 0 of 8\n",
      "draw_boxes : 5 classIdx= 0 label=person 0.55 xmin,ymin=(974, 61) xmax,ymax=(1135, 434)\n",
      "draw_boxes : 4 classIdx= 0 label=person 0.56 xmin,ymin=(1518, 23) xmax,ymax=(1655, 347)\n",
      "draw_boxes : 3 classIdx= 0 label=person 0.59 xmin,ymin=(1464, 806) xmax,ymax=(1591, 962)\n",
      "draw_boxes : 2 classIdx= 0 label=person 0.60 xmin,ymin=(66, 915) xmax,ymax=(237, 1080)\n",
      "draw_boxes : 1 classIdx= 0 label=person 0.69 xmin,ymin=(565, 170) xmax,ymax=(707, 567)\n",
      "draw_boxes : 0 classIdx= 0 label=person 0.73 xmin,ymin=(1208, 597) xmax,ymax=(1342, 967)\n",
      "process_video : Image 1 of 8\n",
      "draw_boxes : 7 classIdx= 0 label=person 0.54 xmin,ymin=(1015, 23) xmax,ymax=(1144, 377)\n",
      "draw_boxes : 6 classIdx= 0 label=person 0.56 xmin,ymin=(1468, 804) xmax,ymax=(1606, 973)\n",
      "draw_boxes : 5 classIdx= 0 label=person 0.60 xmin,ymin=(1213, 606) xmax,ymax=(1353, 966)\n",
      "draw_boxes : 4 classIdx= 0 label=person 0.61 xmin,ymin=(62, 912) xmax,ymax=(240, 1080)\n",
      "draw_boxes : 3 classIdx= 0 label=person 0.61 xmin,ymin=(1795, 677) xmax,ymax=(1920, 951)\n",
      "draw_boxes : 2 classIdx=74 label=clock 0.62 xmin,ymin=(14, 494) xmax,ymax=(514, 786)\n",
      "draw_boxes : 1 classIdx= 0 label=person 0.66 xmin,ymin=(589, 153) xmax,ymax=(736, 567)\n",
      "draw_boxes : 0 classIdx= 0 label=person 0.77 xmin,ymin=(359, 134) xmax,ymax=(485, 494)\n",
      "process_video : Image 2 of 8\n",
      "draw_boxes : 8 classIdx= 0 label=person 0.51 xmin,ymin=(78, 913) xmax,ymax=(233, 1080)\n",
      "draw_boxes : 7 classIdx= 0 label=person 0.52 xmin,ymin=(514, 14) xmax,ymax=(609, 250)\n",
      "draw_boxes : 6 classIdx= 0 label=person 0.58 xmin,ymin=(1469, 798) xmax,ymax=(1607, 958)\n",
      "draw_boxes : 5 classIdx= 0 label=person 0.58 xmin,ymin=(961, 5) xmax,ymax=(1099, 359)\n",
      "draw_boxes : 4 classIdx= 0 label=person 0.62 xmin,ymin=(353, 142) xmax,ymax=(489, 488)\n",
      "draw_boxes : 3 classIdx= 0 label=person 0.63 xmin,ymin=(698, 1) xmax,ymax=(806, 364)\n",
      "draw_boxes : 2 classIdx= 0 label=person 0.63 xmin,ymin=(554, 164) xmax,ymax=(720, 556)\n",
      "draw_boxes : 1 classIdx= 0 label=person 0.64 xmin,ymin=(1210, 605) xmax,ymax=(1356, 958)\n",
      "draw_boxes : 0 classIdx= 0 label=person 0.75 xmin,ymin=(822, 66) xmax,ymax=(980, 447)\n",
      "process_video : Image 3 of 8\n",
      "draw_boxes : 6 classIdx= 0 label=person 0.52 xmin,ymin=(1475, 798) xmax,ymax=(1607, 955)\n",
      "draw_boxes : 5 classIdx= 0 label=person 0.53 xmin,ymin=(78, 902) xmax,ymax=(246, 1080)\n",
      "draw_boxes : 4 classIdx= 0 label=person 0.54 xmin,ymin=(586, 6) xmax,ymax=(692, 374)\n",
      "draw_boxes : 3 classIdx= 0 label=person 0.59 xmin,ymin=(710, 65) xmax,ymax=(875, 430)\n",
      "draw_boxes : 2 classIdx= 0 label=person 0.61 xmin,ymin=(915, 0) xmax,ymax=(1037, 370)\n",
      "draw_boxes : 1 classIdx= 0 label=person 0.70 xmin,ymin=(520, 168) xmax,ymax=(650, 551)\n",
      "draw_boxes : 0 classIdx= 0 label=person 0.72 xmin,ymin=(1199, 594) xmax,ymax=(1339, 954)\n",
      "process_video : Image 4 of 8\n",
      "draw_boxes : 5 classIdx= 0 label=person 0.51 xmin,ymin=(1207, 0) xmax,ymax=(1336, 308)\n",
      "draw_boxes : 4 classIdx= 0 label=person 0.53 xmin,ymin=(1191, 573) xmax,ymax=(1325, 935)\n",
      "draw_boxes : 3 classIdx= 0 label=person 0.54 xmin,ymin=(93, 901) xmax,ymax=(270, 1080)\n",
      "draw_boxes : 2 classIdx= 0 label=person 0.59 xmin,ymin=(1479, 804) xmax,ymax=(1614, 958)\n",
      "draw_boxes : 1 classIdx= 0 label=person 0.70 xmin,ymin=(928, 0) xmax,ymax=(1045, 375)\n",
      "draw_boxes : 0 classIdx= 0 label=person 0.73 xmin,ymin=(679, 37) xmax,ymax=(797, 465)\n",
      "process_video : Image 5 of 8\n",
      "draw_boxes : 3 classIdx= 0 label=person 0.67 xmin,ymin=(1488, 804) xmax,ymax=(1635, 962)\n",
      "draw_boxes : 2 classIdx= 0 label=person 0.68 xmin,ymin=(414, 159) xmax,ymax=(557, 570)\n",
      "draw_boxes : 1 classIdx= 0 label=person 0.69 xmin,ymin=(959, 29) xmax,ymax=(1087, 384)\n",
      "draw_boxes : 0 classIdx= 0 label=person 0.78 xmin,ymin=(622, 95) xmax,ymax=(743, 502)\n",
      "process_video : Image 6 of 8\n",
      "draw_boxes : 9 classIdx= 0 label=person 0.53 xmin,ymin=(1177, 11) xmax,ymax=(1326, 343)\n",
      "draw_boxes : 8 classIdx= 0 label=person 0.56 xmin,ymin=(410, 28) xmax,ymax=(506, 376)\n",
      "draw_boxes : 7 classIdx= 0 label=person 0.57 xmin,ymin=(771, 32) xmax,ymax=(901, 349)\n",
      "draw_boxes : 6 classIdx=37 label=surfboard 0.60 xmin,ymin=(1609, 702) xmax,ymax=(1884, 799)\n",
      "draw_boxes : 5 classIdx= 0 label=person 0.63 xmin,ymin=(1485, 68) xmax,ymax=(1565, 321)\n",
      "draw_boxes : 4 classIdx= 0 label=person 0.63 xmin,ymin=(1828, 558) xmax,ymax=(1918, 989)\n",
      "draw_boxes : 3 classIdx= 0 label=person 0.64 xmin,ymin=(1517, 814) xmax,ymax=(1647, 978)\n",
      "draw_boxes : 2 classIdx= 0 label=person 0.64 xmin,ymin=(457, 178) xmax,ymax=(601, 575)\n",
      "draw_boxes : 1 classIdx= 0 label=person 0.67 xmin,ymin=(1008, 50) xmax,ymax=(1129, 413)\n",
      "draw_boxes : 0 classIdx= 0 label=person 0.72 xmin,ymin=(1260, 570) xmax,ymax=(1392, 949)\n",
      "process_video : Image 7 of 8\n",
      "draw_boxes : 8 classIdx=37 label=surfboard 0.53 xmin,ymin=(1649, 714) xmax,ymax=(1871, 812)\n",
      "draw_boxes : 7 classIdx= 0 label=person 0.55 xmin,ymin=(682, 313) xmax,ymax=(836, 613)\n",
      "draw_boxes : 6 classIdx= 0 label=person 0.57 xmin,ymin=(474, 241) xmax,ymax=(682, 614)\n",
      "draw_boxes : 5 classIdx= 0 label=person 0.59 xmin,ymin=(1818, 574) xmax,ymax=(1912, 985)\n",
      "draw_boxes : 4 classIdx= 0 label=person 0.60 xmin,ymin=(1085, 51) xmax,ymax=(1179, 436)\n",
      "draw_boxes : 3 classIdx= 0 label=person 0.64 xmin,ymin=(22, 0) xmax,ymax=(157, 318)\n",
      "draw_boxes : 2 classIdx= 0 label=person 0.64 xmin,ymin=(1052, 58) xmax,ymax=(1145, 432)\n",
      "draw_boxes : 1 classIdx= 0 label=person 0.71 xmin,ymin=(1564, 821) xmax,ymax=(1688, 974)\n",
      "draw_boxes : 0 classIdx= 0 label=person 0.73 xmin,ymin=(1265, 562) xmax,ymax=(1397, 924)\n",
      "process_video : --------------------------------------------------\n",
      "process_video : loop count 3 : Frame shape = (8, 1080, 1920, 3)\n",
      "process_video : --------------------------------------------------\n",
      "preprocess_image_cpu : Yolo model image size requirement = (608, 608)\n",
      "preprocess_image_cpu : Raw  input image size             = 1080 1920 3\n",
      "get_rotation : Rotation set to : 0 degrees\n",
      "get_rotation : Rotation set to : 0 degrees\n",
      "Found 9 boxes for current batch 0\n",
      "Found 8 boxes for current batch 1\n",
      "Found 10 boxes for current batch 2\n",
      "Found 10 boxes for current batch 3\n",
      "Found 8 boxes for current batch 4\n",
      "Found 7 boxes for current batch 5\n",
      "Found 10 boxes for current batch 6\n",
      "Found 10 boxes for current batch 7\n",
      "process_video : Image 0 of 8\n",
      "draw_boxes : 8 classIdx=37 label=surfboard 0.50 xmin,ymin=(1637, 599) xmax,ymax=(1887, 715)\n",
      "draw_boxes : 7 classIdx= 0 label=person 0.52 xmin,ymin=(65, 2) xmax,ymax=(187, 315)\n",
      "draw_boxes : 6 classIdx= 0 label=person 0.57 xmin,ymin=(278, 931) xmax,ymax=(442, 1080)\n",
      "draw_boxes : 5 classIdx= 0 label=person 0.58 xmin,ymin=(359, 200) xmax,ymax=(547, 513)\n",
      "draw_boxes : 4 classIdx= 0 label=person 0.63 xmin,ymin=(1575, 827) xmax,ymax=(1697, 980)\n",
      "draw_boxes : 3 classIdx= 0 label=person 0.63 xmin,ymin=(1784, 565) xmax,ymax=(1896, 985)\n",
      "draw_boxes : 2 classIdx= 0 label=person 0.71 xmin,ymin=(1262, 557) xmax,ymax=(1401, 911)\n",
      "draw_boxes : 1 classIdx= 0 label=person 0.72 xmin,ymin=(1093, 61) xmax,ymax=(1200, 440)\n",
      "draw_boxes : 0 classIdx= 0 label=person 0.75 xmin,ymin=(822, 315) xmax,ymax=(942, 660)\n",
      "process_video : Image 1 of 8\n",
      "draw_boxes : 7 classIdx= 0 label=person 0.51 xmin,ymin=(312, 193) xmax,ymax=(464, 524)\n",
      "draw_boxes : 6 classIdx= 0 label=person 0.52 xmin,ymin=(78, 0) xmax,ymax=(223, 311)\n",
      "draw_boxes : 5 classIdx= 0 label=person 0.55 xmin,ymin=(300, 928) xmax,ymax=(465, 1080)\n",
      "draw_boxes : 4 classIdx= 0 label=person 0.64 xmin,ymin=(759, 356) xmax,ymax=(889, 718)\n",
      "draw_boxes : 3 classIdx= 0 label=person 0.69 xmin,ymin=(1560, 819) xmax,ymax=(1693, 983)\n",
      "draw_boxes : 2 classIdx= 0 label=person 0.71 xmin,ymin=(1117, 67) xmax,ymax=(1249, 442)\n",
      "draw_boxes : 1 classIdx= 0 label=person 0.76 xmin,ymin=(1241, 540) xmax,ymax=(1414, 877)\n",
      "draw_boxes : 0 classIdx= 0 label=person 0.79 xmin,ymin=(924, 377) xmax,ymax=(1042, 729)\n",
      "process_video : Image 2 of 8\n",
      "draw_boxes : 9 classIdx= 0 label=person 0.58 xmin,ymin=(316, 190) xmax,ymax=(413, 530)\n",
      "draw_boxes : 8 classIdx= 0 label=person 0.58 xmin,ymin=(1673, 527) xmax,ymax=(1836, 879)\n",
      "draw_boxes : 7 classIdx= 0 label=person 0.61 xmin,ymin=(369, 920) xmax,ymax=(508, 1080)\n",
      "draw_boxes : 6 classIdx= 0 label=person 0.65 xmin,ymin=(737, 245) xmax,ymax=(846, 531)\n",
      "draw_boxes : 5 classIdx= 0 label=person 0.67 xmin,ymin=(0, 30) xmax,ymax=(1388, 270)\n",
      "draw_boxes : 4 classIdx= 0 label=person 0.67 xmin,ymin=(1168, 95) xmax,ymax=(1339, 443)\n",
      "draw_boxes : 3 classIdx= 0 label=person 0.75 xmin,ymin=(1555, 812) xmax,ymax=(1693, 974)\n",
      "draw_boxes : 2 classIdx= 0 label=person 0.76 xmin,ymin=(1251, 543) xmax,ymax=(1409, 857)\n",
      "draw_boxes : 1 classIdx= 0 label=person 0.77 xmin,ymin=(815, 392) xmax,ymax=(974, 712)\n",
      "draw_boxes : 0 classIdx= 0 label=person 0.77 xmin,ymin=(1016, 473) xmax,ymax=(1188, 807)\n",
      "process_video : Image 3 of 8\n",
      "draw_boxes : 9 classIdx= 0 label=person 0.51 xmin,ymin=(226, 14) xmax,ymax=(329, 264)\n",
      "draw_boxes : 8 classIdx= 0 label=person 0.52 xmin,ymin=(318, 192) xmax,ymax=(469, 522)\n",
      "draw_boxes : 7 classIdx= 0 label=person 0.55 xmin,ymin=(459, 915) xmax,ymax=(584, 1080)\n",
      "draw_boxes : 6 classIdx= 0 label=person 0.57 xmin,ymin=(14, 21) xmax,ymax=(1499, 272)\n",
      "draw_boxes : 5 classIdx= 0 label=person 0.61 xmin,ymin=(838, 273) xmax,ymax=(953, 558)\n",
      "draw_boxes : 4 classIdx= 0 label=person 0.62 xmin,ymin=(43, 0) xmax,ymax=(196, 300)\n",
      "draw_boxes : 3 classIdx= 0 label=person 0.62 xmin,ymin=(1130, 559) xmax,ymax=(1251, 828)\n",
      "draw_boxes : 2 classIdx= 0 label=person 0.71 xmin,ymin=(854, 385) xmax,ymax=(1062, 704)\n",
      "draw_boxes : 1 classIdx= 0 label=person 0.73 xmin,ymin=(1311, 151) xmax,ymax=(1424, 456)\n",
      "draw_boxes : 0 classIdx= 0 label=person 0.73 xmin,ymin=(1551, 609) xmax,ymax=(1792, 895)\n",
      "process_video : Image 4 of 8\n",
      "draw_boxes : 7 classIdx= 0 label=person 0.50 xmin,ymin=(591, 907) xmax,ymax=(727, 1080)\n",
      "draw_boxes : 6 classIdx= 0 label=person 0.52 xmin,ymin=(1645, 804) xmax,ymax=(1762, 951)\n",
      "draw_boxes : 5 classIdx= 0 label=person 0.61 xmin,ymin=(1451, 168) xmax,ymax=(1556, 429)\n",
      "draw_boxes : 4 classIdx= 0 label=person 0.64 xmin,ymin=(416, 209) xmax,ymax=(557, 504)\n",
      "draw_boxes : 3 classIdx= 0 label=person 0.66 xmin,ymin=(1422, 622) xmax,ymax=(1653, 920)\n",
      "draw_boxes : 2 classIdx= 0 label=person 0.75 xmin,ymin=(1011, 290) xmax,ymax=(1118, 520)\n",
      "draw_boxes : 1 classIdx= 0 label=person 0.79 xmin,ymin=(900, 366) xmax,ymax=(1085, 728)\n",
      "draw_boxes : 0 classIdx= 0 label=person 0.82 xmin,ymin=(1201, 556) xmax,ymax=(1395, 829)\n",
      "process_video : Image 5 of 8\n",
      "draw_boxes : 6 classIdx= 0 label=person 0.55 xmin,ymin=(1391, 67) xmax,ymax=(1508, 334)\n",
      "draw_boxes : 5 classIdx= 0 label=person 0.59 xmin,ymin=(1787, 799) xmax,ymax=(1891, 936)\n",
      "draw_boxes : 4 classIdx= 0 label=person 0.61 xmin,ymin=(1643, 152) xmax,ymax=(1760, 431)\n",
      "draw_boxes : 3 classIdx= 0 label=person 0.63 xmin,ymin=(86, 565) xmax,ymax=(244, 899)\n",
      "draw_boxes : 2 classIdx= 0 label=person 0.78 xmin,ymin=(1181, 267) xmax,ymax=(1311, 535)\n",
      "draw_boxes : 1 classIdx= 0 label=person 0.82 xmin,ymin=(602, 156) xmax,ymax=(714, 489)\n",
      "draw_boxes : 0 classIdx= 0 label=person 0.84 xmin,ymin=(861, 410) xmax,ymax=(1142, 754)\n",
      "process_video : Image 6 of 8\n"
     ]
    },
    {
     "name": "stdout",
     "output_type": "stream",
     "text": [
      "draw_boxes : 9 classIdx= 0 label=person 0.50 xmin,ymin=(438, 998) xmax,ymax=(539, 1078)\n",
      "draw_boxes : 8 classIdx= 0 label=person 0.55 xmin,ymin=(45, 0) xmax,ymax=(1875, 298)\n",
      "draw_boxes : 7 classIdx= 0 label=person 0.56 xmin,ymin=(281, 943) xmax,ymax=(438, 1080)\n",
      "draw_boxes : 6 classIdx= 0 label=person 0.60 xmin,ymin=(963, 905) xmax,ymax=(1095, 1080)\n",
      "draw_boxes : 5 classIdx= 0 label=person 0.71 xmin,ymin=(1406, 534) xmax,ymax=(1662, 908)\n",
      "draw_boxes : 4 classIdx= 0 label=person 0.72 xmin,ymin=(274, 579) xmax,ymax=(429, 932)\n",
      "draw_boxes : 3 classIdx= 0 label=person 0.72 xmin,ymin=(785, 148) xmax,ymax=(912, 475)\n",
      "draw_boxes : 2 classIdx= 0 label=person 0.74 xmin,ymin=(1379, 277) xmax,ymax=(1514, 533)\n",
      "draw_boxes : 1 classIdx= 0 label=person 0.78 xmin,ymin=(1180, 552) xmax,ymax=(1385, 935)\n",
      "draw_boxes : 0 classIdx= 0 label=person 0.85 xmin,ymin=(942, 398) xmax,ymax=(1098, 755)\n",
      "process_video : Image 7 of 8\n",
      "draw_boxes : 9 classIdx= 0 label=person 0.54 xmin,ymin=(994, 1) xmax,ymax=(1128, 383)\n",
      "draw_boxes : 8 classIdx= 0 label=person 0.55 xmin,ymin=(49, 679) xmax,ymax=(189, 1044)\n",
      "draw_boxes : 7 classIdx= 0 label=person 0.56 xmin,ymin=(312, 8) xmax,ymax=(1816, 384)\n",
      "draw_boxes : 6 classIdx= 0 label=person 0.63 xmin,ymin=(784, 0) xmax,ymax=(942, 308)\n",
      "draw_boxes : 5 classIdx= 0 label=person 0.65 xmin,ymin=(1081, 941) xmax,ymax=(1211, 1079)\n",
      "draw_boxes : 4 classIdx= 0 label=person 0.66 xmin,ymin=(1177, 543) xmax,ymax=(1412, 916)\n",
      "draw_boxes : 3 classIdx= 0 label=person 0.70 xmin,ymin=(1535, 312) xmax,ymax=(1680, 553)\n",
      "draw_boxes : 2 classIdx= 0 label=person 0.73 xmin,ymin=(1378, 615) xmax,ymax=(1555, 929)\n",
      "draw_boxes : 1 classIdx= 0 label=person 0.74 xmin,ymin=(390, 603) xmax,ymax=(547, 957)\n",
      "draw_boxes : 0 classIdx= 0 label=person 0.76 xmin,ymin=(977, 464) xmax,ymax=(1114, 809)\n",
      "process_video : --------------------------------------------------\n",
      "process_video : loop count 4 : Frame shape = (8, 1080, 1920, 3)\n",
      "process_video : --------------------------------------------------\n",
      "preprocess_image_cpu : Yolo model image size requirement = (608, 608)\n",
      "preprocess_image_cpu : Raw  input image size             = 1080 1920 3\n",
      "get_rotation : Rotation set to : 0 degrees\n",
      "get_rotation : Rotation set to : 0 degrees\n",
      "Found 10 boxes for current batch 0\n",
      "Found 8 boxes for current batch 1\n",
      "Found 8 boxes for current batch 2\n",
      "Found 5 boxes for current batch 3\n",
      "Found 5 boxes for current batch 4\n",
      "Found 5 boxes for current batch 5\n",
      "Found 7 boxes for current batch 6\n",
      "Found 7 boxes for current batch 7\n",
      "process_video : Image 0 of 8\n",
      "draw_boxes : 9 classIdx= 0 label=person 0.50 xmin,ymin=(965, 180) xmax,ymax=(1123, 564)\n",
      "draw_boxes : 8 classIdx= 0 label=person 0.52 xmin,ymin=(380, 627) xmax,ymax=(543, 1001)\n",
      "draw_boxes : 7 classIdx= 0 label=person 0.53 xmin,ymin=(960, 416) xmax,ymax=(1136, 777)\n",
      "draw_boxes : 6 classIdx= 0 label=person 0.54 xmin,ymin=(981, 29) xmax,ymax=(1096, 267)\n",
      "draw_boxes : 5 classIdx= 0 label=person 0.58 xmin,ymin=(804, 0) xmax,ymax=(946, 312)\n",
      "draw_boxes : 4 classIdx= 0 label=person 0.59 xmin,ymin=(1091, 984) xmax,ymax=(1223, 1078)\n",
      "draw_boxes : 3 classIdx= 0 label=person 0.62 xmin,ymin=(1595, 314) xmax,ymax=(1708, 572)\n",
      "draw_boxes : 2 classIdx= 0 label=person 0.68 xmin,ymin=(1323, 9) xmax,ymax=(1412, 390)\n",
      "draw_boxes : 1 classIdx= 0 label=person 0.72 xmin,ymin=(46, 731) xmax,ymax=(227, 1057)\n",
      "draw_boxes : 0 classIdx= 0 label=person 0.79 xmin,ymin=(1200, 675) xmax,ymax=(1360, 1005)\n",
      "process_video : Image 1 of 8\n",
      "draw_boxes : 7 classIdx= 0 label=person 0.56 xmin,ymin=(767, 0) xmax,ymax=(890, 313)\n",
      "draw_boxes : 6 classIdx= 0 label=person 0.60 xmin,ymin=(144, 691) xmax,ymax=(358, 1080)\n",
      "draw_boxes : 5 classIdx= 0 label=person 0.69 xmin,ymin=(1035, 215) xmax,ymax=(1209, 500)\n",
      "draw_boxes : 4 classIdx= 0 label=person 0.69 xmin,ymin=(937, 622) xmax,ymax=(1147, 992)\n",
      "draw_boxes : 3 classIdx= 0 label=person 0.70 xmin,ymin=(1580, 307) xmax,ymax=(1685, 574)\n",
      "draw_boxes : 2 classIdx= 0 label=person 0.71 xmin,ymin=(935, 8) xmax,ymax=(1051, 346)\n",
      "draw_boxes : 1 classIdx= 0 label=person 0.77 xmin,ymin=(1242, 431) xmax,ymax=(1418, 780)\n",
      "draw_boxes : 0 classIdx= 0 label=person 0.78 xmin,ymin=(330, 632) xmax,ymax=(515, 1010)\n",
      "process_video : Image 2 of 8\n",
      "draw_boxes : 7 classIdx= 0 label=person 0.57 xmin,ymin=(980, 1004) xmax,ymax=(1156, 1076)\n",
      "draw_boxes : 6 classIdx= 0 label=person 0.59 xmin,ymin=(1121, 368) xmax,ymax=(1321, 717)\n",
      "draw_boxes : 5 classIdx= 0 label=person 0.60 xmin,ymin=(944, 534) xmax,ymax=(1142, 892)\n",
      "draw_boxes : 4 classIdx= 0 label=person 0.61 xmin,ymin=(711, 13) xmax,ymax=(847, 352)\n",
      "draw_boxes : 3 classIdx= 0 label=person 0.63 xmin,ymin=(311, 702) xmax,ymax=(595, 1073)\n",
      "draw_boxes : 2 classIdx= 0 label=person 0.70 xmin,ymin=(783, 567) xmax,ymax=(986, 890)\n",
      "draw_boxes : 1 classIdx= 0 label=person 0.71 xmin,ymin=(886, 0) xmax,ymax=(989, 369)\n",
      "draw_boxes : 0 classIdx= 0 label=person 0.75 xmin,ymin=(1542, 267) xmax,ymax=(1669, 599)\n",
      "process_video : Image 3 of 8\n",
      "draw_boxes : 4 classIdx= 0 label=person 0.57 xmin,ymin=(797, 508) xmax,ymax=(1071, 880)\n",
      "draw_boxes : 3 classIdx= 0 label=person 0.66 xmin,ymin=(615, 683) xmax,ymax=(845, 1070)\n",
      "draw_boxes : 2 classIdx= 0 label=person 0.66 xmin,ymin=(1592, 340) xmax,ymax=(1723, 602)\n",
      "draw_boxes : 1 classIdx= 0 label=person 0.67 xmin,ymin=(941, 363) xmax,ymax=(1161, 829)\n",
      "draw_boxes : 0 classIdx= 0 label=person 0.77 xmin,ymin=(1130, 181) xmax,ymax=(1264, 565)\n",
      "process_video : Image 4 of 8\n",
      "draw_boxes : 4 classIdx= 0 label=person 0.55 xmin,ymin=(184, 0) xmax,ymax=(1908, 510)\n",
      "draw_boxes : 3 classIdx= 0 label=person 0.66 xmin,ymin=(1045, 238) xmax,ymax=(1258, 581)\n",
      "draw_boxes : 2 classIdx= 0 label=person 0.67 xmin,ymin=(1709, 377) xmax,ymax=(1834, 655)\n",
      "draw_boxes : 1 classIdx= 0 label=person 0.74 xmin,ymin=(833, 658) xmax,ymax=(1016, 1077)\n",
      "draw_boxes : 0 classIdx= 0 label=person 0.81 xmin,ymin=(1004, 500) xmax,ymax=(1245, 841)\n",
      "process_video : Image 5 of 8\n",
      "draw_boxes : 4 classIdx= 0 label=person 0.51 xmin,ymin=(1071, 116) xmax,ymax=(1208, 487)\n",
      "draw_boxes : 3 classIdx= 0 label=person 0.54 xmin,ymin=(622, 830) xmax,ymax=(825, 1080)\n",
      "draw_boxes : 2 classIdx= 0 label=person 0.55 xmin,ymin=(859, 454) xmax,ymax=(1048, 841)\n",
      "draw_boxes : 1 classIdx= 0 label=person 0.58 xmin,ymin=(1223, 73) xmax,ymax=(1316, 445)\n",
      "draw_boxes : 0 classIdx= 0 label=person 0.59 xmin,ymin=(1403, 76) xmax,ymax=(1532, 466)\n",
      "process_video : Image 6 of 8\n",
      "draw_boxes : 6 classIdx= 0 label=person 0.51 xmin,ymin=(1421, 51) xmax,ymax=(1522, 442)\n",
      "draw_boxes : 5 classIdx= 0 label=person 0.53 xmin,ymin=(469, 878) xmax,ymax=(627, 1075)\n",
      "draw_boxes : 4 classIdx= 0 label=person 0.54 xmin,ymin=(1026, 654) xmax,ymax=(1168, 1080)\n",
      "draw_boxes : 3 classIdx= 0 label=person 0.57 xmin,ymin=(680, 274) xmax,ymax=(785, 430)\n",
      "draw_boxes : 2 classIdx= 0 label=person 0.62 xmin,ymin=(1527, 170) xmax,ymax=(1645, 533)\n",
      "draw_boxes : 1 classIdx= 0 label=person 0.62 xmin,ymin=(763, 493) xmax,ymax=(1013, 902)\n",
      "draw_boxes : 0 classIdx= 0 label=person 0.65 xmin,ymin=(1084, 85) xmax,ymax=(1182, 453)\n",
      "process_video : Image 7 of 8\n",
      "draw_boxes : 6 classIdx= 0 label=person 0.52 xmin,ymin=(1218, 45) xmax,ymax=(1315, 444)\n",
      "draw_boxes : 5 classIdx= 0 label=person 0.55 xmin,ymin=(873, 635) xmax,ymax=(1101, 1003)\n",
      "draw_boxes : 4 classIdx= 0 label=person 0.62 xmin,ymin=(1242, 199) xmax,ymax=(1412, 553)\n",
      "draw_boxes : 3 classIdx= 0 label=person 0.66 xmin,ymin=(1080, 53) xmax,ymax=(1183, 450)\n",
      "draw_boxes : 2 classIdx= 0 label=person 0.67 xmin,ymin=(362, 831) xmax,ymax=(586, 1073)\n",
      "draw_boxes : 1 classIdx= 0 label=person 0.69 xmin,ymin=(1630, 190) xmax,ymax=(1766, 539)\n",
      "draw_boxes : 0 classIdx= 0 label=person 0.73 xmin,ymin=(838, 293) xmax,ymax=(951, 669)\n",
      "process_video : Processed video saved here ./output/processed_video.mov\n"
     ]
    }
   ],
   "source": [
    "infer_video(input_video=\"./sampleVideos/bball.mov\",\n",
    "            audit_mode=False,\n",
    "            output_dir=\"./output\",\n",
    "            mode=\"darknet\",\n",
    "            batch_size=8,\n",
    "            frame_stride=10)\n"
   ]
  },
  {
   "cell_type": "code",
   "execution_count": null,
   "metadata": {
    "collapsed": true
   },
   "outputs": [],
   "source": [
    "# Workaround to convert avi file to mov... Need this to display movie in notebook for now\n",
    "!ffmpeg  -y -loglevel warning -i output/processed_video.avi  ./output/processed_video.mov\n",
    "!ls output # should see ./output/processed_video.mov"
   ]
  },
  {
   "cell_type": "markdown",
   "metadata": {},
   "source": [
    "### Play the labelled video\n",
    "\n",
    "<center>\n",
    "<video width=\"1200\" height=\"600\" src=\"./output/processed_video.mov\" type=\"video/mov\" controls>\n",
    "</video>\n",
    "</center>"
   ]
  },
  {
   "cell_type": "markdown",
   "metadata": {},
   "source": [
    "### Summary\n",
    "\n",
    "<font color='blue'>\n",
    "**What you should remember**:\n",
    "- YOLO is a state-of-the-art object detection model that is fast and accurate\n",
    "- It runs an input image through a CNN which outputs a 19x19x5x85 dimensional volume. \n",
    "- The encoding can be seen as a grid where each of the 19x19 cells contains information about 5 boxes.\n",
    "- You filter through all the boxes using non-max suppression. Specifically: \n",
    "    - Score thresholding on the probability of detecting a class to keep only accurate (high probability) boxes\n",
    "    - Intersection over Union (IoU) thresholding to eliminate overlapping boxes\n",
    "- Because training a YOLO model from randomly initialized weights is non-trivial and requires a large dataset as well as lot of computation, we used previously trained model parameters in this exercise. If you wish, you can also try fine-tuning the YOLO model with your own dataset, though this would be a fairly non-trivial exercise. \n",
    "\n",
    "<font color='black'>\n",
    "\n",
    "**References**: The ideas presented in this notebook came primarily from the two YOLO papers. The implementation here also took significant inspiration and used many components from Allan Zelener's github repository. The pretrained weights used in this exercise came from the official YOLO website. \n",
    "- Joseph Redmon, Santosh Divvala, Ross Girshick, Ali Farhadi - [You Only Look Once: Unified, Real-Time Object Detection](https://arxiv.org/abs/1506.02640) (2015)\n",
    "- Joseph Redmon, Ali Farhadi - [YOLO9000: Better, Faster, Stronger](https://arxiv.org/abs/1612.08242) (2016)\n",
    "- Allan Zelener - [YAD2K: Yet Another Darknet 2 Keras](https://github.com/allanzelener/YAD2K)\n",
    "- The official YOLO website (https://pjreddie.com/darknet/yolo/) \n",
    "- Coursera.com / deeplearning.ai - (YOLO lectures and Lab)"
   ]
  }
 ],
 "metadata": {
  "coursera": {
   "course_slug": "convolutional-neural-networks",
   "graded_item_id": "OMdut",
   "launcher_item_id": "bbBOL"
  },
  "kernelspec": {
   "display_name": "Python 3",
   "language": "python",
   "name": "python3"
  },
  "language_info": {
   "codemirror_mode": {
    "name": "ipython",
    "version": 3
   },
   "file_extension": ".py",
   "mimetype": "text/x-python",
   "name": "python",
   "nbconvert_exporter": "python",
   "pygments_lexer": "ipython3",
   "version": "3.6.4"
  }
 },
 "nbformat": 4,
 "nbformat_minor": 2
}
